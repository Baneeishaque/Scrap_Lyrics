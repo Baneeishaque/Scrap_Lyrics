{
 "cells": [
  {
   "cell_type": "code",
   "execution_count": 1,
   "metadata": {
    "pycharm": {
     "is_executing": false
    }
   },
   "outputs": [],
   "source": [
    "from selenium import webdriver"
   ]
  },
  {
   "cell_type": "code",
   "execution_count": 7,
   "metadata": {
    "pycharm": {
     "is_executing": false
    }
   },
   "outputs": [],
   "source": [
    "chromeWebDriver = webdriver.Chrome(\"C:/Programs/chromedriver.exe\")"
   ]
  },
  {
   "cell_type": "code",
   "execution_count": 8,
   "metadata": {
    "pycharm": {
     "is_executing": false
    }
   },
   "outputs": [],
   "source": [
    "from bs4 import BeautifulSoup\n",
    "import soupsieve as sv\n",
    "\n",
    "def get_results_from_url(url,page_number,initialization=False) :\n",
    "    print('\\nCurrent Search Results Page : '+str(page_number))\n",
    "    chromeWebDriver.get(url)\n",
    "    page_source = chromeWebDriver.page_source\n",
    "    beautiful_soap_content = BeautifulSoup(page_source, \"lxml\")\n",
    "    for lyricResult in sv.select('div.sec-lyric.clearfix', beautiful_soap_content):\n",
    "#         print('\\nLyrics Result')\n",
    "#         print(str(lyricResult)+'\\n')\n",
    "        artist_element=sv.select_one('a',sv.select_one('p.lyric-meta-artists',lyricResult))\n",
    "#         print('Artist Element is : '+ str(artist_element))\n",
    "        if artist_element is not None :\n",
    "          print(sv.select_one('a',sv.select_one('p.lyric-meta-title',lyricResult)).text + \" : \" + artist_element.text)\n",
    "        else :\n",
    "          print(sv.select_one('a',sv.select_one('p.lyric-meta-title',lyricResult)).text + \" : None\")\n",
    "        # break\n",
    "    if initialization : \n",
    "        page_count=sv.select_one('a:last-child',sv.select_one('div.pager',beautiful_soap_content)).text\n",
    "        for i in range(2,int(page_count)+1) :\n",
    "            get_results_from_url(\"https://www.lyrics.com/serp.php?st=fuck+how+i+feel&p=\"+str(i),i)\n",
    "            # break"
   ]
  },
  {
   "cell_type": "code",
   "execution_count": 9,
   "metadata": {
    "pycharm": {
     "is_executing": false
    }
   },
   "outputs": [
    {
     "name": "stdout",
     "text": [
      "\nCurrent Search Results Page : 1\n",
      "Fade : Kanye West\n\nCurrent Search Results Page : 2\n",
      "Paparazzi : Xzibit\n"
     ],
     "output_type": "stream"
    }
   ],
   "source": [
    "get_results_from_url(\"https://www.lyrics.com/lyrics/fuck%20how%20i%20feel\",1,True)"
   ]
  },
  {
   "cell_type": "code",
   "execution_count": 10,
   "metadata": {
    "pycharm": {
     "is_executing": false
    }
   },
   "outputs": [],
   "source": [
    "import requests\n",
    "\n",
    "def get_results_from_url_requests(url,page_number,initialization=False) :\n",
    "    print('\\nCurrent Search Results Page : '+str(page_number))\n",
    "    page_source = requests.get(url).text\n",
    "    beautiful_soap_content = BeautifulSoup(page_source, \"lxml\")\n",
    "    for lyricResult in sv.select('div.sec-lyric.clearfix', beautiful_soap_content):\n",
    "#         print('\\nLyrics Result')\n",
    "#         print(str(lyricResult)+'\\n')\n",
    "        artist_element=sv.select_one('a',sv.select_one('p.lyric-meta-artists',lyricResult))\n",
    "#         print('Artist Element is : '+ str(artist_element))\n",
    "        if artist_element is not None :\n",
    "          print(sv.select_one('a',sv.select_one('p.lyric-meta-title',lyricResult)).text + \" : \" + artist_element.text)\n",
    "        else :\n",
    "          print(sv.select_one('a',sv.select_one('p.lyric-meta-title',lyricResult)).text + \" : None\")\n",
    "        # break\n",
    "    if initialization : \n",
    "        page_count=sv.select_one('a:last-child',sv.select_one('div.pager',beautiful_soap_content)).text\n",
    "        for i in range(2,int(page_count)+1) :\n",
    "            get_results_from_url(\"https://www.lyrics.com/serp.php?st=fuck+how+i+feel&p=\"+str(i),i)\n",
    "            # break"
   ]
  },
  {
   "cell_type": "code",
   "execution_count": 11,
   "metadata": {
    "pycharm": {
     "name": "#%%\n",
     "is_executing": false
    }
   },
   "outputs": [
    {
     "name": "stdout",
     "text": [
      "\nCurrent Search Results Page : 1\n",
      "Fade : Kanye West\n\nCurrent Search Results Page : 2\n",
      "Paparazzi : Xzibit\n"
     ],
     "output_type": "stream"
    }
   ],
   "source": [
    "get_results_from_url_requests(\"https://www.lyrics.com/lyrics/fuck%20how%20i%20feel\",1,True)"
   ]
  }
 ],
 "metadata": {
  "kernelspec": {
   "display_name": "Python 3",
   "language": "python",
   "name": "python3"
  },
  "language_info": {
   "codemirror_mode": {
    "name": "ipython",
    "version": 3
   },
   "file_extension": ".py",
   "mimetype": "text/x-python",
   "name": "python",
   "nbconvert_exporter": "python",
   "pygments_lexer": "ipython3",
   "version": "3.7.4"
  },
  "pycharm": {
   "stem_cell": {
    "cell_type": "raw",
    "source": [],
    "metadata": {
     "collapsed": false
    }
   }
  }
 },
 "nbformat": 4,
 "nbformat_minor": 4
}

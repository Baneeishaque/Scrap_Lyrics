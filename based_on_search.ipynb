{
 "cells": [
  {
   "cell_type": "code",
   "execution_count": 2,
   "metadata": {},
   "outputs": [],
   "source": [
    "from selenium import webdriver"
   ]
  },
  {
   "cell_type": "code",
   "execution_count": 3,
   "metadata": {},
   "outputs": [],
   "source": [
    "chromeWebDriver = webdriver.Chrome(\"C:/Programs/chromedriver.exe\")"
   ]
  },
  {
   "cell_type": "code",
   "execution_count": 4,
   "metadata": {},
   "outputs": [],
   "source": [
    "from bs4 import BeautifulSoup\n",
    "import soupsieve as sv\n",
    "\n",
    "def get_results_from_url(url,page_number,initialization=False) :\n",
    "    print('\\nCurrent Search Results Page : '+str(page_number))\n",
    "    chromeWebDriver.get(url)\n",
    "    page_source = chromeWebDriver.page_source\n",
    "    beautiful_soap_content = BeautifulSoup(page_source, \"lxml\")\n",
    "    for lyricResult in sv.select('div.sec-lyric.clearfix', beautiful_soap_content):\n",
    "#         print('\\nLyrics Result')\n",
    "#         print(str(lyricResult)+'\\n')\n",
    "        artist_element=sv.select_one('a',sv.select_one('p.lyric-meta-artists',lyricResult))\n",
    "#         print('Artist Element is : '+ str(artist_element))\n",
    "        if artist_element is not None :\n",
    "          print(sv.select_one('a',sv.select_one('p.lyric-meta-title',lyricResult)).text + \" : \" + artist_element.text)\n",
    "        else :\n",
    "          print(sv.select_one('a',sv.select_one('p.lyric-meta-title',lyricResult)).text + \" : None\")\n",
    "        # break\n",
    "    if initialization : \n",
    "        page_count=sv.select_one('a:last-child',sv.select_one('div.pager',beautiful_soap_content)).text\n",
    "        for i in range(2,int(page_count)+1) :\n",
    "            get_results_from_url(\"https://www.lyrics.com/serp.php?st=fuck+how+i+feel&p=\"+str(i),i)\n",
    "            # break"
   ]
  },
  {
   "cell_type": "code",
   "execution_count": 5,
   "metadata": {},
   "outputs": [
    {
     "name": "stdout",
     "output_type": "stream",
     "text": [
      "\n",
      "Current Search Results Page : 1\n",
      "Beast : Orpheus Kid\n"
     ]
    },
    {
     "ename": "TypeError",
     "evalue": "Expected a BeautifulSoup 'Tag', but instead recieved type <class 'NoneType'>",
     "output_type": "error",
     "traceback": [
      "\u001B[1;31m---------------------------------------------------------------------------\u001B[0m",
      "\u001B[1;31mTypeError\u001B[0m                                 Traceback (most recent call last)",
      "\u001B[1;32m<ipython-input-5-d53030b290e9>\u001B[0m in \u001B[0;36m<module>\u001B[1;34m\u001B[0m\n\u001B[1;32m----> 1\u001B[1;33m \u001B[0mget_results_from_url\u001B[0m\u001B[1;33m(\u001B[0m\u001B[1;34m\"https://www.lyrics.com/lyrics/fuck%20how%20i%20feel\"\u001B[0m\u001B[1;33m,\u001B[0m\u001B[1;36m1\u001B[0m\u001B[1;33m,\u001B[0m\u001B[1;32mTrue\u001B[0m\u001B[1;33m)\u001B[0m\u001B[1;33m\u001B[0m\u001B[1;33m\u001B[0m\u001B[0m\n\u001B[0m",
      "\u001B[1;32m<ipython-input-4-63530bde7e66>\u001B[0m in \u001B[0;36mget_results_from_url\u001B[1;34m(url, page_number, initialization)\u001B[0m\n\u001B[0;32m     10\u001B[0m \u001B[1;31m#         print('\\nLyrics Result')\u001B[0m\u001B[1;33m\u001B[0m\u001B[1;33m\u001B[0m\u001B[1;33m\u001B[0m\u001B[0m\n\u001B[0;32m     11\u001B[0m \u001B[1;31m#         print(str(lyricResult)+'\\n')\u001B[0m\u001B[1;33m\u001B[0m\u001B[1;33m\u001B[0m\u001B[1;33m\u001B[0m\u001B[0m\n\u001B[1;32m---> 12\u001B[1;33m         \u001B[0martist_element\u001B[0m\u001B[1;33m=\u001B[0m\u001B[0msv\u001B[0m\u001B[1;33m.\u001B[0m\u001B[0mselect_one\u001B[0m\u001B[1;33m(\u001B[0m\u001B[1;34m'a'\u001B[0m\u001B[1;33m,\u001B[0m\u001B[0msv\u001B[0m\u001B[1;33m.\u001B[0m\u001B[0mselect_one\u001B[0m\u001B[1;33m(\u001B[0m\u001B[1;34m'p.lyric-meta-artists'\u001B[0m\u001B[1;33m,\u001B[0m\u001B[0mlyricResult\u001B[0m\u001B[1;33m)\u001B[0m\u001B[1;33m)\u001B[0m\u001B[1;33m\u001B[0m\u001B[1;33m\u001B[0m\u001B[0m\n\u001B[0m\u001B[0;32m     13\u001B[0m \u001B[1;31m#         print('Artist Element is : '+ str(artist_element))\u001B[0m\u001B[1;33m\u001B[0m\u001B[1;33m\u001B[0m\u001B[1;33m\u001B[0m\u001B[0m\n\u001B[0;32m     14\u001B[0m         \u001B[1;32mif\u001B[0m \u001B[0martist_element\u001B[0m \u001B[1;32mis\u001B[0m \u001B[1;32mnot\u001B[0m \u001B[1;32mNone\u001B[0m \u001B[1;33m:\u001B[0m\u001B[1;33m\u001B[0m\u001B[1;33m\u001B[0m\u001B[0m\n",
      "\u001B[1;32mC:\\ProgramData\\Anaconda3\\lib\\site-packages\\soupsieve\\__init__.py\u001B[0m in \u001B[0;36mselect_one\u001B[1;34m(select, tag, namespaces, flags, **kwargs)\u001B[0m\n\u001B[0;32m     90\u001B[0m     \u001B[1;34m\"\"\"Select a single tag.\"\"\"\u001B[0m\u001B[1;33m\u001B[0m\u001B[1;33m\u001B[0m\u001B[0m\n\u001B[0;32m     91\u001B[0m \u001B[1;33m\u001B[0m\u001B[0m\n\u001B[1;32m---> 92\u001B[1;33m     \u001B[1;32mreturn\u001B[0m \u001B[0mcompile\u001B[0m\u001B[1;33m(\u001B[0m\u001B[0mselect\u001B[0m\u001B[1;33m,\u001B[0m \u001B[0mnamespaces\u001B[0m\u001B[1;33m,\u001B[0m \u001B[0mflags\u001B[0m\u001B[1;33m,\u001B[0m \u001B[1;33m**\u001B[0m\u001B[0mkwargs\u001B[0m\u001B[1;33m)\u001B[0m\u001B[1;33m.\u001B[0m\u001B[0mselect_one\u001B[0m\u001B[1;33m(\u001B[0m\u001B[0mtag\u001B[0m\u001B[1;33m)\u001B[0m\u001B[1;33m\u001B[0m\u001B[1;33m\u001B[0m\u001B[0m\n\u001B[0m\u001B[0;32m     93\u001B[0m \u001B[1;33m\u001B[0m\u001B[0m\n\u001B[0;32m     94\u001B[0m \u001B[1;33m\u001B[0m\u001B[0m\n",
      "\u001B[1;32mC:\\ProgramData\\Anaconda3\\lib\\site-packages\\soupsieve\\css_match.py\u001B[0m in \u001B[0;36mselect_one\u001B[1;34m(self, tag)\u001B[0m\n\u001B[0;32m   1468\u001B[0m         \u001B[1;34m\"\"\"Select a single tag.\"\"\"\u001B[0m\u001B[1;33m\u001B[0m\u001B[1;33m\u001B[0m\u001B[0m\n\u001B[0;32m   1469\u001B[0m \u001B[1;33m\u001B[0m\u001B[0m\n\u001B[1;32m-> 1470\u001B[1;33m         \u001B[0mtags\u001B[0m \u001B[1;33m=\u001B[0m \u001B[0mself\u001B[0m\u001B[1;33m.\u001B[0m\u001B[0mselect\u001B[0m\u001B[1;33m(\u001B[0m\u001B[0mtag\u001B[0m\u001B[1;33m,\u001B[0m \u001B[0mlimit\u001B[0m\u001B[1;33m=\u001B[0m\u001B[1;36m1\u001B[0m\u001B[1;33m)\u001B[0m\u001B[1;33m\u001B[0m\u001B[1;33m\u001B[0m\u001B[0m\n\u001B[0m\u001B[0;32m   1471\u001B[0m         \u001B[1;32mreturn\u001B[0m \u001B[0mtags\u001B[0m\u001B[1;33m[\u001B[0m\u001B[1;36m0\u001B[0m\u001B[1;33m]\u001B[0m \u001B[1;32mif\u001B[0m \u001B[0mtags\u001B[0m \u001B[1;32melse\u001B[0m \u001B[1;32mNone\u001B[0m\u001B[1;33m\u001B[0m\u001B[1;33m\u001B[0m\u001B[0m\n\u001B[0;32m   1472\u001B[0m \u001B[1;33m\u001B[0m\u001B[0m\n",
      "\u001B[1;32mC:\\ProgramData\\Anaconda3\\lib\\site-packages\\soupsieve\\css_match.py\u001B[0m in \u001B[0;36mselect\u001B[1;34m(self, tag, limit)\u001B[0m\n\u001B[0;32m   1474\u001B[0m         \u001B[1;34m\"\"\"Select the specified tags.\"\"\"\u001B[0m\u001B[1;33m\u001B[0m\u001B[1;33m\u001B[0m\u001B[0m\n\u001B[0;32m   1475\u001B[0m \u001B[1;33m\u001B[0m\u001B[0m\n\u001B[1;32m-> 1476\u001B[1;33m         \u001B[1;32mreturn\u001B[0m \u001B[0mlist\u001B[0m\u001B[1;33m(\u001B[0m\u001B[0mself\u001B[0m\u001B[1;33m.\u001B[0m\u001B[0miselect\u001B[0m\u001B[1;33m(\u001B[0m\u001B[0mtag\u001B[0m\u001B[1;33m,\u001B[0m \u001B[0mlimit\u001B[0m\u001B[1;33m)\u001B[0m\u001B[1;33m)\u001B[0m\u001B[1;33m\u001B[0m\u001B[1;33m\u001B[0m\u001B[0m\n\u001B[0m\u001B[0;32m   1477\u001B[0m \u001B[1;33m\u001B[0m\u001B[0m\n\u001B[0;32m   1478\u001B[0m     \u001B[1;32mdef\u001B[0m \u001B[0miselect\u001B[0m\u001B[1;33m(\u001B[0m\u001B[0mself\u001B[0m\u001B[1;33m,\u001B[0m \u001B[0mtag\u001B[0m\u001B[1;33m,\u001B[0m \u001B[0mlimit\u001B[0m\u001B[1;33m=\u001B[0m\u001B[1;36m0\u001B[0m\u001B[1;33m)\u001B[0m\u001B[1;33m:\u001B[0m\u001B[1;33m\u001B[0m\u001B[1;33m\u001B[0m\u001B[0m\n",
      "\u001B[1;32mC:\\ProgramData\\Anaconda3\\lib\\site-packages\\soupsieve\\css_match.py\u001B[0m in \u001B[0;36miselect\u001B[1;34m(self, tag, limit)\u001B[0m\n\u001B[0;32m   1479\u001B[0m         \u001B[1;34m\"\"\"Iterate the specified tags.\"\"\"\u001B[0m\u001B[1;33m\u001B[0m\u001B[1;33m\u001B[0m\u001B[0m\n\u001B[0;32m   1480\u001B[0m \u001B[1;33m\u001B[0m\u001B[0m\n\u001B[1;32m-> 1481\u001B[1;33m         \u001B[1;32mfor\u001B[0m \u001B[0mel\u001B[0m \u001B[1;32min\u001B[0m \u001B[0mCSSMatch\u001B[0m\u001B[1;33m(\u001B[0m\u001B[0mself\u001B[0m\u001B[1;33m.\u001B[0m\u001B[0mselectors\u001B[0m\u001B[1;33m,\u001B[0m \u001B[0mtag\u001B[0m\u001B[1;33m,\u001B[0m \u001B[0mself\u001B[0m\u001B[1;33m.\u001B[0m\u001B[0mnamespaces\u001B[0m\u001B[1;33m,\u001B[0m \u001B[0mself\u001B[0m\u001B[1;33m.\u001B[0m\u001B[0mflags\u001B[0m\u001B[1;33m)\u001B[0m\u001B[1;33m.\u001B[0m\u001B[0mselect\u001B[0m\u001B[1;33m(\u001B[0m\u001B[0mlimit\u001B[0m\u001B[1;33m)\u001B[0m\u001B[1;33m:\u001B[0m\u001B[1;33m\u001B[0m\u001B[1;33m\u001B[0m\u001B[0m\n\u001B[0m\u001B[0;32m   1482\u001B[0m             \u001B[1;32myield\u001B[0m \u001B[0mel\u001B[0m\u001B[1;33m\u001B[0m\u001B[1;33m\u001B[0m\u001B[0m\n\u001B[0;32m   1483\u001B[0m \u001B[1;33m\u001B[0m\u001B[0m\n",
      "\u001B[1;32mC:\\ProgramData\\Anaconda3\\lib\\site-packages\\soupsieve\\css_match.py\u001B[0m in \u001B[0;36m__init__\u001B[1;34m(self, selectors, scope, namespaces, flags)\u001B[0m\n\u001B[0;32m    437\u001B[0m         \u001B[1;34m\"\"\"Initialize.\"\"\"\u001B[0m\u001B[1;33m\u001B[0m\u001B[1;33m\u001B[0m\u001B[0m\n\u001B[0;32m    438\u001B[0m \u001B[1;33m\u001B[0m\u001B[0m\n\u001B[1;32m--> 439\u001B[1;33m         \u001B[0mself\u001B[0m\u001B[1;33m.\u001B[0m\u001B[0massert_valid_input\u001B[0m\u001B[1;33m(\u001B[0m\u001B[0mscope\u001B[0m\u001B[1;33m)\u001B[0m\u001B[1;33m\u001B[0m\u001B[1;33m\u001B[0m\u001B[0m\n\u001B[0m\u001B[0;32m    440\u001B[0m         \u001B[0mself\u001B[0m\u001B[1;33m.\u001B[0m\u001B[0mtag\u001B[0m \u001B[1;33m=\u001B[0m \u001B[0mscope\u001B[0m\u001B[1;33m\u001B[0m\u001B[1;33m\u001B[0m\u001B[0m\n\u001B[0;32m    441\u001B[0m         \u001B[0mself\u001B[0m\u001B[1;33m.\u001B[0m\u001B[0mcached_meta_lang\u001B[0m \u001B[1;33m=\u001B[0m \u001B[1;33m[\u001B[0m\u001B[1;33m]\u001B[0m\u001B[1;33m\u001B[0m\u001B[1;33m\u001B[0m\u001B[0m\n",
      "\u001B[1;32mC:\\ProgramData\\Anaconda3\\lib\\site-packages\\soupsieve\\css_match.py\u001B[0m in \u001B[0;36massert_valid_input\u001B[1;34m(cls, tag)\u001B[0m\n\u001B[0;32m     83\u001B[0m         \u001B[1;31m# Fail on unexpected types.\u001B[0m\u001B[1;33m\u001B[0m\u001B[1;33m\u001B[0m\u001B[1;33m\u001B[0m\u001B[0m\n\u001B[0;32m     84\u001B[0m         \u001B[1;32mif\u001B[0m \u001B[1;32mnot\u001B[0m \u001B[0mcls\u001B[0m\u001B[1;33m.\u001B[0m\u001B[0mis_tag\u001B[0m\u001B[1;33m(\u001B[0m\u001B[0mtag\u001B[0m\u001B[1;33m)\u001B[0m\u001B[1;33m:\u001B[0m\u001B[1;33m\u001B[0m\u001B[1;33m\u001B[0m\u001B[0m\n\u001B[1;32m---> 85\u001B[1;33m             \u001B[1;32mraise\u001B[0m \u001B[0mTypeError\u001B[0m\u001B[1;33m(\u001B[0m\u001B[1;34m\"Expected a BeautifulSoup 'Tag', but instead recieved type {}\"\u001B[0m\u001B[1;33m.\u001B[0m\u001B[0mformat\u001B[0m\u001B[1;33m(\u001B[0m\u001B[0mtype\u001B[0m\u001B[1;33m(\u001B[0m\u001B[0mtag\u001B[0m\u001B[1;33m)\u001B[0m\u001B[1;33m)\u001B[0m\u001B[1;33m)\u001B[0m\u001B[1;33m\u001B[0m\u001B[1;33m\u001B[0m\u001B[0m\n\u001B[0m\u001B[0;32m     86\u001B[0m \u001B[1;33m\u001B[0m\u001B[0m\n\u001B[0;32m     87\u001B[0m     \u001B[1;33m@\u001B[0m\u001B[0mstaticmethod\u001B[0m\u001B[1;33m\u001B[0m\u001B[1;33m\u001B[0m\u001B[0m\n",
      "\u001B[1;31mTypeError\u001B[0m: Expected a BeautifulSoup 'Tag', but instead recieved type <class 'NoneType'>"
     ]
    }
   ],
   "source": [
    "get_results_from_url(\"https://www.lyrics.com/lyrics/fuck%20how%20i%20feel\",1,True)"
   ]
  },
  {
   "cell_type": "code",
   "execution_count": 6,
   "metadata": {},
   "outputs": [],
   "source": [
    "import requests\n",
    "\n",
    "def get_results_from_url_requests(url,page_number,initialization=False) :\n",
    "    print('\\nCurrent Search Results Page : '+str(page_number))\n",
    "    page_source = requests.get(url).text\n",
    "    beautiful_soap_content = BeautifulSoup(page_source, \"lxml\")\n",
    "    for lyricResult in sv.select('div.sec-lyric.clearfix', beautiful_soap_content):\n",
    "#         print('\\nLyrics Result')\n",
    "#         print(str(lyricResult)+'\\n')\n",
    "        artist_element=sv.select_one('a',sv.select_one('p.lyric-meta-artists',lyricResult))\n",
    "#         print('Artist Element is : '+ str(artist_element))\n",
    "        if artist_element is not None :\n",
    "          print(sv.select_one('a',sv.select_one('p.lyric-meta-title',lyricResult)).text + \" : \" + artist_element.text)\n",
    "        else :\n",
    "          print(sv.select_one('a',sv.select_one('p.lyric-meta-title',lyricResult)).text + \" : None\")\n",
    "        # break\n",
    "    if initialization : \n",
    "        page_count=sv.select_one('a:last-child',sv.select_one('div.pager',beautiful_soap_content)).text\n",
    "        for i in range(2,int(page_count)+1) :\n",
    "            get_results_from_url(\"https://www.lyrics.com/serp.php?st=fuck+how+i+feel&p=\"+str(i),i)\n",
    "            # break"
   ]
  },
  {
   "cell_type": "code",
   "execution_count": 7,
   "metadata": {
    "pycharm": {
     "name": "#%%\n"
    }
   },
   "outputs": [
    {
     "name": "stdout",
     "output_type": "stream",
     "text": [
      "\n",
      "Current Search Results Page : 1\n",
      "Beast : Orpheus Kid\n"
     ]
    },
    {
     "ename": "TypeError",
     "evalue": "Expected a BeautifulSoup 'Tag', but instead recieved type <class 'NoneType'>",
     "output_type": "error",
     "traceback": [
      "\u001B[1;31m---------------------------------------------------------------------------\u001B[0m",
      "\u001B[1;31mTypeError\u001B[0m                                 Traceback (most recent call last)",
      "\u001B[1;32m<ipython-input-7-5c21abe9450a>\u001B[0m in \u001B[0;36m<module>\u001B[1;34m\u001B[0m\n\u001B[1;32m----> 1\u001B[1;33m \u001B[0mget_results_from_url_requests\u001B[0m\u001B[1;33m(\u001B[0m\u001B[1;34m\"https://www.lyrics.com/lyrics/fuck%20how%20i%20feel\"\u001B[0m\u001B[1;33m,\u001B[0m\u001B[1;36m1\u001B[0m\u001B[1;33m,\u001B[0m\u001B[1;32mTrue\u001B[0m\u001B[1;33m)\u001B[0m\u001B[1;33m\u001B[0m\u001B[1;33m\u001B[0m\u001B[0m\n\u001B[0m",
      "\u001B[1;32m<ipython-input-6-32d91dcb0872>\u001B[0m in \u001B[0;36mget_results_from_url_requests\u001B[1;34m(url, page_number, initialization)\u001B[0m\n\u001B[0;32m      8\u001B[0m \u001B[1;31m#         print('\\nLyrics Result')\u001B[0m\u001B[1;33m\u001B[0m\u001B[1;33m\u001B[0m\u001B[1;33m\u001B[0m\u001B[0m\n\u001B[0;32m      9\u001B[0m \u001B[1;31m#         print(str(lyricResult)+'\\n')\u001B[0m\u001B[1;33m\u001B[0m\u001B[1;33m\u001B[0m\u001B[1;33m\u001B[0m\u001B[0m\n\u001B[1;32m---> 10\u001B[1;33m         \u001B[0martist_element\u001B[0m\u001B[1;33m=\u001B[0m\u001B[0msv\u001B[0m\u001B[1;33m.\u001B[0m\u001B[0mselect_one\u001B[0m\u001B[1;33m(\u001B[0m\u001B[1;34m'a'\u001B[0m\u001B[1;33m,\u001B[0m\u001B[0msv\u001B[0m\u001B[1;33m.\u001B[0m\u001B[0mselect_one\u001B[0m\u001B[1;33m(\u001B[0m\u001B[1;34m'p.lyric-meta-artists'\u001B[0m\u001B[1;33m,\u001B[0m\u001B[0mlyricResult\u001B[0m\u001B[1;33m)\u001B[0m\u001B[1;33m)\u001B[0m\u001B[1;33m\u001B[0m\u001B[1;33m\u001B[0m\u001B[0m\n\u001B[0m\u001B[0;32m     11\u001B[0m \u001B[1;31m#         print('Artist Element is : '+ str(artist_element))\u001B[0m\u001B[1;33m\u001B[0m\u001B[1;33m\u001B[0m\u001B[1;33m\u001B[0m\u001B[0m\n\u001B[0;32m     12\u001B[0m         \u001B[1;32mif\u001B[0m \u001B[0martist_element\u001B[0m \u001B[1;32mis\u001B[0m \u001B[1;32mnot\u001B[0m \u001B[1;32mNone\u001B[0m \u001B[1;33m:\u001B[0m\u001B[1;33m\u001B[0m\u001B[1;33m\u001B[0m\u001B[0m\n",
      "\u001B[1;32mC:\\ProgramData\\Anaconda3\\lib\\site-packages\\soupsieve\\__init__.py\u001B[0m in \u001B[0;36mselect_one\u001B[1;34m(select, tag, namespaces, flags, **kwargs)\u001B[0m\n\u001B[0;32m     90\u001B[0m     \u001B[1;34m\"\"\"Select a single tag.\"\"\"\u001B[0m\u001B[1;33m\u001B[0m\u001B[1;33m\u001B[0m\u001B[0m\n\u001B[0;32m     91\u001B[0m \u001B[1;33m\u001B[0m\u001B[0m\n\u001B[1;32m---> 92\u001B[1;33m     \u001B[1;32mreturn\u001B[0m \u001B[0mcompile\u001B[0m\u001B[1;33m(\u001B[0m\u001B[0mselect\u001B[0m\u001B[1;33m,\u001B[0m \u001B[0mnamespaces\u001B[0m\u001B[1;33m,\u001B[0m \u001B[0mflags\u001B[0m\u001B[1;33m,\u001B[0m \u001B[1;33m**\u001B[0m\u001B[0mkwargs\u001B[0m\u001B[1;33m)\u001B[0m\u001B[1;33m.\u001B[0m\u001B[0mselect_one\u001B[0m\u001B[1;33m(\u001B[0m\u001B[0mtag\u001B[0m\u001B[1;33m)\u001B[0m\u001B[1;33m\u001B[0m\u001B[1;33m\u001B[0m\u001B[0m\n\u001B[0m\u001B[0;32m     93\u001B[0m \u001B[1;33m\u001B[0m\u001B[0m\n\u001B[0;32m     94\u001B[0m \u001B[1;33m\u001B[0m\u001B[0m\n",
      "\u001B[1;32mC:\\ProgramData\\Anaconda3\\lib\\site-packages\\soupsieve\\css_match.py\u001B[0m in \u001B[0;36mselect_one\u001B[1;34m(self, tag)\u001B[0m\n\u001B[0;32m   1468\u001B[0m         \u001B[1;34m\"\"\"Select a single tag.\"\"\"\u001B[0m\u001B[1;33m\u001B[0m\u001B[1;33m\u001B[0m\u001B[0m\n\u001B[0;32m   1469\u001B[0m \u001B[1;33m\u001B[0m\u001B[0m\n\u001B[1;32m-> 1470\u001B[1;33m         \u001B[0mtags\u001B[0m \u001B[1;33m=\u001B[0m \u001B[0mself\u001B[0m\u001B[1;33m.\u001B[0m\u001B[0mselect\u001B[0m\u001B[1;33m(\u001B[0m\u001B[0mtag\u001B[0m\u001B[1;33m,\u001B[0m \u001B[0mlimit\u001B[0m\u001B[1;33m=\u001B[0m\u001B[1;36m1\u001B[0m\u001B[1;33m)\u001B[0m\u001B[1;33m\u001B[0m\u001B[1;33m\u001B[0m\u001B[0m\n\u001B[0m\u001B[0;32m   1471\u001B[0m         \u001B[1;32mreturn\u001B[0m \u001B[0mtags\u001B[0m\u001B[1;33m[\u001B[0m\u001B[1;36m0\u001B[0m\u001B[1;33m]\u001B[0m \u001B[1;32mif\u001B[0m \u001B[0mtags\u001B[0m \u001B[1;32melse\u001B[0m \u001B[1;32mNone\u001B[0m\u001B[1;33m\u001B[0m\u001B[1;33m\u001B[0m\u001B[0m\n\u001B[0;32m   1472\u001B[0m \u001B[1;33m\u001B[0m\u001B[0m\n",
      "\u001B[1;32mC:\\ProgramData\\Anaconda3\\lib\\site-packages\\soupsieve\\css_match.py\u001B[0m in \u001B[0;36mselect\u001B[1;34m(self, tag, limit)\u001B[0m\n\u001B[0;32m   1474\u001B[0m         \u001B[1;34m\"\"\"Select the specified tags.\"\"\"\u001B[0m\u001B[1;33m\u001B[0m\u001B[1;33m\u001B[0m\u001B[0m\n\u001B[0;32m   1475\u001B[0m \u001B[1;33m\u001B[0m\u001B[0m\n\u001B[1;32m-> 1476\u001B[1;33m         \u001B[1;32mreturn\u001B[0m \u001B[0mlist\u001B[0m\u001B[1;33m(\u001B[0m\u001B[0mself\u001B[0m\u001B[1;33m.\u001B[0m\u001B[0miselect\u001B[0m\u001B[1;33m(\u001B[0m\u001B[0mtag\u001B[0m\u001B[1;33m,\u001B[0m \u001B[0mlimit\u001B[0m\u001B[1;33m)\u001B[0m\u001B[1;33m)\u001B[0m\u001B[1;33m\u001B[0m\u001B[1;33m\u001B[0m\u001B[0m\n\u001B[0m\u001B[0;32m   1477\u001B[0m \u001B[1;33m\u001B[0m\u001B[0m\n\u001B[0;32m   1478\u001B[0m     \u001B[1;32mdef\u001B[0m \u001B[0miselect\u001B[0m\u001B[1;33m(\u001B[0m\u001B[0mself\u001B[0m\u001B[1;33m,\u001B[0m \u001B[0mtag\u001B[0m\u001B[1;33m,\u001B[0m \u001B[0mlimit\u001B[0m\u001B[1;33m=\u001B[0m\u001B[1;36m0\u001B[0m\u001B[1;33m)\u001B[0m\u001B[1;33m:\u001B[0m\u001B[1;33m\u001B[0m\u001B[1;33m\u001B[0m\u001B[0m\n",
      "\u001B[1;32mC:\\ProgramData\\Anaconda3\\lib\\site-packages\\soupsieve\\css_match.py\u001B[0m in \u001B[0;36miselect\u001B[1;34m(self, tag, limit)\u001B[0m\n\u001B[0;32m   1479\u001B[0m         \u001B[1;34m\"\"\"Iterate the specified tags.\"\"\"\u001B[0m\u001B[1;33m\u001B[0m\u001B[1;33m\u001B[0m\u001B[0m\n\u001B[0;32m   1480\u001B[0m \u001B[1;33m\u001B[0m\u001B[0m\n\u001B[1;32m-> 1481\u001B[1;33m         \u001B[1;32mfor\u001B[0m \u001B[0mel\u001B[0m \u001B[1;32min\u001B[0m \u001B[0mCSSMatch\u001B[0m\u001B[1;33m(\u001B[0m\u001B[0mself\u001B[0m\u001B[1;33m.\u001B[0m\u001B[0mselectors\u001B[0m\u001B[1;33m,\u001B[0m \u001B[0mtag\u001B[0m\u001B[1;33m,\u001B[0m \u001B[0mself\u001B[0m\u001B[1;33m.\u001B[0m\u001B[0mnamespaces\u001B[0m\u001B[1;33m,\u001B[0m \u001B[0mself\u001B[0m\u001B[1;33m.\u001B[0m\u001B[0mflags\u001B[0m\u001B[1;33m)\u001B[0m\u001B[1;33m.\u001B[0m\u001B[0mselect\u001B[0m\u001B[1;33m(\u001B[0m\u001B[0mlimit\u001B[0m\u001B[1;33m)\u001B[0m\u001B[1;33m:\u001B[0m\u001B[1;33m\u001B[0m\u001B[1;33m\u001B[0m\u001B[0m\n\u001B[0m\u001B[0;32m   1482\u001B[0m             \u001B[1;32myield\u001B[0m \u001B[0mel\u001B[0m\u001B[1;33m\u001B[0m\u001B[1;33m\u001B[0m\u001B[0m\n\u001B[0;32m   1483\u001B[0m \u001B[1;33m\u001B[0m\u001B[0m\n",
      "\u001B[1;32mC:\\ProgramData\\Anaconda3\\lib\\site-packages\\soupsieve\\css_match.py\u001B[0m in \u001B[0;36m__init__\u001B[1;34m(self, selectors, scope, namespaces, flags)\u001B[0m\n\u001B[0;32m    437\u001B[0m         \u001B[1;34m\"\"\"Initialize.\"\"\"\u001B[0m\u001B[1;33m\u001B[0m\u001B[1;33m\u001B[0m\u001B[0m\n\u001B[0;32m    438\u001B[0m \u001B[1;33m\u001B[0m\u001B[0m\n\u001B[1;32m--> 439\u001B[1;33m         \u001B[0mself\u001B[0m\u001B[1;33m.\u001B[0m\u001B[0massert_valid_input\u001B[0m\u001B[1;33m(\u001B[0m\u001B[0mscope\u001B[0m\u001B[1;33m)\u001B[0m\u001B[1;33m\u001B[0m\u001B[1;33m\u001B[0m\u001B[0m\n\u001B[0m\u001B[0;32m    440\u001B[0m         \u001B[0mself\u001B[0m\u001B[1;33m.\u001B[0m\u001B[0mtag\u001B[0m \u001B[1;33m=\u001B[0m \u001B[0mscope\u001B[0m\u001B[1;33m\u001B[0m\u001B[1;33m\u001B[0m\u001B[0m\n\u001B[0;32m    441\u001B[0m         \u001B[0mself\u001B[0m\u001B[1;33m.\u001B[0m\u001B[0mcached_meta_lang\u001B[0m \u001B[1;33m=\u001B[0m \u001B[1;33m[\u001B[0m\u001B[1;33m]\u001B[0m\u001B[1;33m\u001B[0m\u001B[1;33m\u001B[0m\u001B[0m\n",
      "\u001B[1;32mC:\\ProgramData\\Anaconda3\\lib\\site-packages\\soupsieve\\css_match.py\u001B[0m in \u001B[0;36massert_valid_input\u001B[1;34m(cls, tag)\u001B[0m\n\u001B[0;32m     83\u001B[0m         \u001B[1;31m# Fail on unexpected types.\u001B[0m\u001B[1;33m\u001B[0m\u001B[1;33m\u001B[0m\u001B[1;33m\u001B[0m\u001B[0m\n\u001B[0;32m     84\u001B[0m         \u001B[1;32mif\u001B[0m \u001B[1;32mnot\u001B[0m \u001B[0mcls\u001B[0m\u001B[1;33m.\u001B[0m\u001B[0mis_tag\u001B[0m\u001B[1;33m(\u001B[0m\u001B[0mtag\u001B[0m\u001B[1;33m)\u001B[0m\u001B[1;33m:\u001B[0m\u001B[1;33m\u001B[0m\u001B[1;33m\u001B[0m\u001B[0m\n\u001B[1;32m---> 85\u001B[1;33m             \u001B[1;32mraise\u001B[0m \u001B[0mTypeError\u001B[0m\u001B[1;33m(\u001B[0m\u001B[1;34m\"Expected a BeautifulSoup 'Tag', but instead recieved type {}\"\u001B[0m\u001B[1;33m.\u001B[0m\u001B[0mformat\u001B[0m\u001B[1;33m(\u001B[0m\u001B[0mtype\u001B[0m\u001B[1;33m(\u001B[0m\u001B[0mtag\u001B[0m\u001B[1;33m)\u001B[0m\u001B[1;33m)\u001B[0m\u001B[1;33m)\u001B[0m\u001B[1;33m\u001B[0m\u001B[1;33m\u001B[0m\u001B[0m\n\u001B[0m\u001B[0;32m     86\u001B[0m \u001B[1;33m\u001B[0m\u001B[0m\n\u001B[0;32m     87\u001B[0m     \u001B[1;33m@\u001B[0m\u001B[0mstaticmethod\u001B[0m\u001B[1;33m\u001B[0m\u001B[1;33m\u001B[0m\u001B[0m\n",
      "\u001B[1;31mTypeError\u001B[0m: Expected a BeautifulSoup 'Tag', but instead recieved type <class 'NoneType'>"
     ]
    }
   ],
   "source": [
    "get_results_from_url_requests(\"https://www.lyrics.com/lyrics/fuck%20how%20i%20feel\",1,True)"
   ]
  },
  {
   "cell_type": "code",
   "execution_count": null,
   "outputs": [],
   "source": [],
   "metadata": {
    "collapsed": false,
    "pycharm": {
     "name": "#%%\n"
    }
   }
  },
  {
   "cell_type": "code",
   "execution_count": null,
   "metadata": {},
   "outputs": [],
   "source": []
  }
 ],
 "metadata": {
  "kernelspec": {
   "display_name": "Python 3",
   "language": "python",
   "name": "python3"
  },
  "language_info": {
   "codemirror_mode": {
    "name": "ipython",
    "version": 3
   },
   "file_extension": ".py",
   "mimetype": "text/x-python",
   "name": "python",
   "nbconvert_exporter": "python",
   "pygments_lexer": "ipython3",
   "version": "3.8.3"
  }
 },
 "nbformat": 4,
 "nbformat_minor": 4
}